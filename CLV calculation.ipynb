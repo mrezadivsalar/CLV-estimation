{
 "cells": [
  {
   "cell_type": "markdown",
   "id": "28428b70",
   "metadata": {},
   "source": [
    "### roadmap"
   ]
  },
  {
   "cell_type": "markdown",
   "id": "d1e01258",
   "metadata": {},
   "source": [
    "1. **Estimate average transactions per year, $f$**\n",
    "\n",
    "   * **Logic**: For each customer $c$, count their orders ($O_c$) and compute their tenure in years ($Y_c = (\\text{last order date} - \\text{first order date})/365$).\n",
    "   * **Formula**:\n",
    "\n",
    "     $$\n",
    "       f \\;=\\;\\frac{\\sum_c (O_c - 1)}{\\sum_c Y_c}\n",
    "     $$\n",
    "\n",
    "     This is the total number of *repeat intervals* divided by total customer‐years.\n",
    "\n",
    "2. **Convert annual discount into a per-purchase rate, $r$**\n",
    "\n",
    "   * **Logic**: We want the equivalent discount each time a purchase occurs, given an annual rate $r_{\\rm annual}$.\n",
    "   * **Formula**:\n",
    "\n",
    "     $$\n",
    "       1 + r \\;=\\;(1 + r_{\\rm annual})^{1/f}\n",
    "       \\quad\\Longrightarrow\\quad\n",
    "       r \\;=\\;(1 + r_{\\rm annual})^{1/f}\\;-\\;1.\n",
    "     $$\n",
    "\n",
    "3. **Sequence each customer’s purchases and choose horizon $N$**\n",
    "\n",
    "   * **Logic**: Order each customer’s transactions chronologically and label them $t=1,2,\\dots$. The furthest any customer goes defines the maximum depth $N$.\n",
    "   * **Formula**:\n",
    "\n",
    "     $$\n",
    "       t_{c,i} = i,\\quad i\\;\\text{th purchase of customer }c;\\qquad\n",
    "       N = \\max_{c,i}(t_{c,i}).\n",
    "     $$\n",
    "\n",
    "4. **Compute mean order value at transaction $t$, $M_t$**\n",
    "\n",
    "   * **Logic**: For the $t$ th purchase across all customers who have made at least $t$ purchases, average their order revenues.\n",
    "   * **Formula**:\n",
    "\n",
    "     $$\n",
    "       M_t \\;=\\;\\frac{1}{\\#\\{c: t_{c,\\bullet}=t\\}}\n",
    "                   \\sum_{c:\\,t_{c,\\bullet}=t} \n",
    "                   \\text{LineDollars}_{c,t}.\n",
    "     $$\n",
    "\n",
    "5. **Compute conditional purchase probability at $t$, $r_t$**\n",
    "\n",
    "   * **Logic**: Let $\\mathrm{reach}_t$ = number of customers who made at least $t$ purchases. Then\n",
    "   * **Formulas**:\n",
    "\n",
    "     $$\n",
    "       r_1 = 1,\n",
    "       \\quad\n",
    "       r_t = \\frac{\\mathrm{reach}_t}{\\mathrm{reach}_{t-1}}\n",
    "       \\quad(t>1),\n",
    "     $$\n",
    "\n",
    "     where $\\mathrm{reach}_t = \\#\\{c:\\max_i t_{c,i}\\ge t\\}$.\n",
    "\n",
    "6. **Estimate average acquisition cost per customer, $\\overline{AC}$**\n",
    "\n",
    "   * **Logic**: For each customer, count their catalog and e-mail contacts *before* first purchase, multiply by unit costs $u_C$, $u_E$, then average across all customers.\n",
    "   * **Formulas**:\n",
    "\n",
    "     $$\n",
    "       AC_c = u_C \\,n_c^{\\rm catalog} \\;+\\; u_E \\,n_c^{\\rm email},\n",
    "       \\quad\n",
    "       \\overline{AC} = \\frac1C \\sum_{c=1}^C AC_c.\n",
    "     $$\n",
    "\n",
    "7. **Compute overall CLV**\n",
    "\n",
    "   * **Logic**: The expected discounted revenue per acquired customer (common to all) minus the average acquisition cost.\n",
    "   * **Formula**:\n",
    "\n",
    "     $$\n",
    "       \\boxed{\n",
    "         \\mathrm{CLV}\n",
    "         \\;=\\;\n",
    "         -\\,\\overline{AC}\n",
    "         \\;+\\;\\sum_{t=1}^{N}\n",
    "           \\frac{r_t\\,M_t}{(1 + r)^{\\,t-1}}\n",
    "       }\n",
    "     $$\n",
    "   * Here\n",
    "   * $r$ = per-purchase discount (Step 2),\n",
    "   * $r_t$ = conditional repurchase prob. (Step 5),\n",
    "   * $M_t$ = mean order value at depth $t$ (Step 4),\n",
    "   * $N$ = maximum transaction depth (Step 3).\n",
    "\n",
    "---\n",
    "\n",
    "With these seven steps—each driven entirely by your orders and contacts data—you obtain a single, data-grounded CLV estimate without any hand-tuned inputs.\n"
   ]
  },
  {
   "cell_type": "markdown",
   "id": "1607979b",
   "metadata": {},
   "source": [
    "### implementation"
   ]
  },
  {
   "cell_type": "markdown",
   "id": "e77f5bf3",
   "metadata": {},
   "source": [
    "#### step 0, Input required parameters"
   ]
  },
  {
   "cell_type": "code",
   "execution_count": 4,
   "id": "526923fd",
   "metadata": {},
   "outputs": [],
   "source": [
    "r_annual = 0.10        # e.g. 10% annual discount\n",
    "u_C      = 2.00        # per-catalog cost\n",
    "u_E      = 0.10        # per-email cost"
   ]
  },
  {
   "cell_type": "markdown",
   "id": "1d73d696",
   "metadata": {},
   "source": [
    "final notes:\n",
    "No returns data are provided, so revenue is gross\n",
    "The documentation warns that customers were sampled at different rates for anonymity. Average CLV for this teaching sample may not equal the true population average."
   ]
  },
  {
   "cell_type": "markdown",
   "id": "9b97dcb5",
   "metadata": {},
   "source": [
    "#### Step 1. Estimate average transactions per year, f"
   ]
  },
  {
   "cell_type": "code",
   "execution_count": 6,
   "id": "00716734",
   "metadata": {},
   "outputs": [],
   "source": [
    "sql = \"\"\"CREATE VIEW cust_stats AS\n",
    "SELECT\n",
    "    l.\"Cust_ID\",\n",
    "    l.\"OrderNum\",\n",
    "    l.\"LineDollars\",\n",
    "    o.\"OrderDate\",\n",
    "    o.\"OrderMethod\",\n",
    "    c.\"AcqDateFormatted\"\n",
    "FROM \"lines\" l\n",
    "JOIN \"orders\" o\n",
    "    ON l.\"Cust_ID\" = o.\"Cust_ID\" AND l.\"OrderNum\" = o.\"OrderNum\"\n",
    "JOIN \"summary\" c\n",
    "    ON l.\"Cust_ID\" = c.\"Cust_ID\";\"\"\"\n",
    "\n",
    "\n",
    "with engine.begin() as conn:\n",
    "    conn.execute(text(sql))\n"
   ]
  },
  {
   "cell_type": "code",
   "execution_count": 5,
   "id": "7bc5f565",
   "metadata": {},
   "outputs": [
    {
     "name": "stdout",
     "output_type": "stream",
     "text": [
      "Estimated f (txns/year) = 1.450\n"
     ]
    }
   ],
   "source": [
    "sql = \"\"\"\n",
    "WITH cust_stats AS (\n",
    "  SELECT\n",
    "    \"Cust_ID\",\n",
    "    COUNT(*)            AS num_orders,\n",
    "    MIN(\"OrderDate\")      AS first_date,\n",
    "    MAX(\"OrderDate\")      AS last_date\n",
    "  FROM orders\n",
    "  GROUP BY \"Cust_ID\"\n",
    "),\n",
    "agg AS (\n",
    "  SELECT\n",
    "    SUM(num_orders - 1)                                       AS total_intervals,\n",
    "    SUM(EXTRACT(EPOCH \n",
    "        FROM (last_date - first_date)) / 86400.0) / 365.0     AS total_years\n",
    "  FROM cust_stats\n",
    ")\n",
    "SELECT\n",
    "  total_intervals / NULLIF(total_years,0)  AS f_est\n",
    "FROM agg;\n",
    "\"\"\"\n",
    "df_f  = pd.read_sql_query(sql, engine)\n",
    "f_est = df_f.at[0, \"f_est\"]\n",
    "print(f\"Estimated f (txns/year) = {f_est:.3f}\")\n"
   ]
  },
  {
   "cell_type": "markdown",
   "id": "9854bcc7",
   "metadata": {},
   "source": [
    "#### Step 2. Convert annual discount to per-purchase rate,"
   ]
  },
  {
   "cell_type": "code",
   "execution_count": 6,
   "id": "7a65091d",
   "metadata": {},
   "outputs": [
    {
     "name": "stdout",
     "output_type": "stream",
     "text": [
      "Per-purchase discount rate r = 0.0679\n"
     ]
    }
   ],
   "source": [
    "\n",
    "# compute per‐purchase discount rate\n",
    "r = (1 + r_annual)**(1.0 / f_est) - 1\n",
    "\n",
    "print(f\"Per-purchase discount rate r = {r:.4f}\")\n"
   ]
  },
  {
   "cell_type": "markdown",
   "id": "5ef77998",
   "metadata": {},
   "source": [
    "#### Step 3. Sequence each customer’s orders (𝑡) and find horizon 𝑁"
   ]
  },
  {
   "cell_type": "code",
   "execution_count": null,
   "id": "58924923",
   "metadata": {},
   "outputs": [],
   "source": [
    "sql = \"\"\"CREATE OR REPLACE VIEW sequenced_orders AS\n",
    "SELECT\n",
    "  \"Cust_ID\",\n",
    "  \"OrderNum\",\n",
    "  \"LineDollars\",\n",
    "  \"OrderDate\",\n",
    "  ROW_NUMBER() OVER (\n",
    "    PARTITION BY \"Cust_ID\"\n",
    "    ORDER BY \"OrderDate\"\n",
    "  ) AS t\n",
    "FROM cust_stats;\n",
    "\n",
    "SELECT MAX(t) AS N FROM sequenced_orders;\"\"\"\n",
    "\n",
    "\n",
    "with engine.begin() as conn:\n",
    "    conn.execute(text(sql))\n",
    "\n"
   ]
  },
  {
   "cell_type": "code",
   "execution_count": 9,
   "id": "585905df",
   "metadata": {},
   "outputs": [
    {
     "name": "stdout",
     "output_type": "stream",
     "text": [
      "Horizon N = 973\n"
     ]
    }
   ],
   "source": [
    "df = pd.read_sql_query(\"SELECT MAX(t) AS N FROM sequenced_orders;\", engine)\n",
    "N = df.at[0, 'n']\n",
    "print(f\"Horizon N = {N}\")\n"
   ]
  },
  {
   "cell_type": "markdown",
   "id": "7727435b",
   "metadata": {},
   "source": [
    "#### Step 4. Compute mean order value at transaction $t$, $M_t$\n",
    "\n",
    "​\n"
   ]
  },
  {
   "cell_type": "code",
   "execution_count": 28,
   "id": "096b1bc0",
   "metadata": {},
   "outputs": [],
   "source": [
    "sql = \"\"\"CREATE OR REPLACE VIEW Mt AS\n",
    "SELECT\n",
    "  t,\n",
    "  AVG(\"LineDollars\") AS M_t,\n",
    "  COUNT(*)         AS n_t\n",
    "FROM sequenced_orders\n",
    "GROUP BY t\n",
    "ORDER BY t;\"\"\"\n",
    "\n",
    "with engine.begin() as conn:\n",
    "    conn.execute(text(sql))"
   ]
  },
  {
   "cell_type": "code",
   "execution_count": 29,
   "id": "f232e26b",
   "metadata": {},
   "outputs": [
    {
     "name": "stdout",
     "output_type": "stream",
     "text": [
      "   t        m_t     n_t\n",
      "0  1  36.263360  100051\n",
      "1  2  30.860016   70046\n",
      "2  3  28.985962   53446\n",
      "3  4  27.854060   42443\n",
      "4  5  27.287394   34393\n"
     ]
    }
   ],
   "source": [
    "df_M = pd.read_sql_query(\"SELECT * FROM Mt;\", engine)\n",
    "print(df_M.head())\n"
   ]
  },
  {
   "cell_type": "markdown",
   "id": "3c57b676",
   "metadata": {},
   "source": [
    "#### Step 5. Compute conditional repurchase probabilities $ r_t $\n",
    "\n",
    "​\n"
   ]
  },
  {
   "cell_type": "code",
   "execution_count": 12,
   "id": "c8a4e3c9",
   "metadata": {},
   "outputs": [],
   "source": [
    "sql = \"\"\"CREATE OR REPLACE VIEW rt AS\n",
    "WITH cust_max AS (\n",
    "  SELECT\n",
    "    \"Cust_ID\",\n",
    "    MAX(t) AS max_t\n",
    "  FROM sequenced_orders\n",
    "  GROUP BY \"Cust_ID\"\n",
    "),\n",
    "overall AS (\n",
    "  SELECT MAX(max_t) AS overall_max\n",
    "  FROM cust_max\n",
    "),\n",
    "reach AS (\n",
    "  -- note that generate_series is in the FROM clause\n",
    "  SELECT\n",
    "    gs.t,\n",
    "    (\n",
    "      SELECT COUNT(*) \n",
    "      FROM cust_max \n",
    "      WHERE max_t >= gs.t\n",
    "    ) AS reach_t\n",
    "  FROM overall\n",
    "  CROSS JOIN LATERAL\n",
    "    generate_series(1, overall.overall_max) AS gs(t)\n",
    ")\n",
    "SELECT\n",
    "  t,\n",
    "  CASE\n",
    "    WHEN t = 1 THEN 1.0\n",
    "    ELSE reach_t::float / LAG(reach_t) OVER (ORDER BY t)\n",
    "  END AS r_t\n",
    "FROM reach\n",
    "ORDER BY t;\n",
    "\"\"\"\n",
    "\n",
    "\n",
    "with engine.begin() as conn:\n",
    "    conn.execute(text(sql))"
   ]
  },
  {
   "cell_type": "code",
   "execution_count": 13,
   "id": "25e2c27c",
   "metadata": {},
   "outputs": [
    {
     "name": "stdout",
     "output_type": "stream",
     "text": [
      "   t       r_t\n",
      "0  1  1.000000\n",
      "1  2  0.700103\n",
      "2  3  0.763013\n",
      "3  4  0.794129\n",
      "4  5  0.810334\n"
     ]
    }
   ],
   "source": [
    "df_r_t = pd.read_sql_query(\"SELECT * FROM rt;\", engine)\n",
    "print(df_r_t.head())\n"
   ]
  },
  {
   "cell_type": "markdown",
   "id": "4543b8d6",
   "metadata": {},
   "source": [
    "Step 6. Estimate each customer’s acquisition cost $ AC _ t $\n",
    "​\n"
   ]
  },
  {
   "cell_type": "code",
   "execution_count": 20,
   "id": "a0de4060",
   "metadata": {},
   "outputs": [],
   "source": [
    "from sqlalchemy import text\n",
    "\n",
    "\n",
    "\n",
    "sql = f\"\"\"\n",
    "CREATE OR REPLACE VIEW AC_tbl AS\n",
    "WITH first_order AS (\n",
    "  SELECT \"Cust_ID\",\n",
    "         MIN(\"OrderDate\") AS first_date\n",
    "  FROM cust_stats\n",
    "  GROUP BY \"Cust_ID\"\n",
    "),\n",
    "pre AS (\n",
    "  SELECT\n",
    "    c.\"Cust_ID\",\n",
    "    SUM(CASE WHEN \"ContactType\" = 'C' THEN 1 ELSE 0 END) AS cat_cnt,\n",
    "    SUM(CASE WHEN \"ContactType\" = 'E' THEN 1 ELSE 0 END) AS email_cnt\n",
    "  FROM contacts c\n",
    "  JOIN first_order f\n",
    "    USING (\"Cust_ID\")\n",
    "  WHERE c.\"ContactDate\" < f.first_date\n",
    "  GROUP BY c.\"Cust_ID\"\n",
    ")\n",
    "SELECT\n",
    "  \"Cust_ID\",\n",
    "  {u_C} * cat_cnt + {u_E} * email_cnt AS AC_c\n",
    "FROM pre;\n",
    "\"\"\"\n",
    "\n",
    "with engine.begin() as conn:\n",
    "    conn.execute(text(sql))\n"
   ]
  },
  {
   "cell_type": "code",
   "execution_count": 21,
   "id": "48951bf5",
   "metadata": {},
   "outputs": [
    {
     "name": "stdout",
     "output_type": "stream",
     "text": [
      "   Cust_ID  ac_c\n",
      "0    24436   8.1\n",
      "1   339962   4.0\n",
      "2   353683   6.0\n",
      "3   363725   2.0\n",
      "4   866490  50.0\n"
     ]
    }
   ],
   "source": [
    "df_AC = pd.read_sql_query(\"SELECT * FROM AC_tbl\", engine)\n",
    "print(df_AC.head())\n"
   ]
  },
  {
   "cell_type": "markdown",
   "id": "11c173bb",
   "metadata": {},
   "source": [
    "#### Step 7. Compute overall CLV"
   ]
  },
  {
   "cell_type": "code",
   "execution_count": 23,
   "id": "9f25e96c",
   "metadata": {},
   "outputs": [],
   "source": [
    "AC_avg = pd.read_sql_query(\n",
    "    \"SELECT AVG(AC_c) FROM AC_tbl;\",\n",
    "    engine\n",
    ").squeeze()\n"
   ]
  },
  {
   "cell_type": "code",
   "execution_count": 30,
   "id": "35b18c70",
   "metadata": {},
   "outputs": [
    {
     "name": "stdout",
     "output_type": "stream",
     "text": [
      "S = 361.21965726708294\n"
     ]
    }
   ],
   "source": [
    "sql = f\"\"\"\n",
    "SELECT\n",
    "  SUM(r_t * M_t / POWER(1 + {r}, t - 1)) AS S_val\n",
    "FROM Mt\n",
    "JOIN rt USING (t);\n",
    "\"\"\"\n",
    "\n",
    "df_S = pd.read_sql_query(sql, engine)\n",
    "S_val = df_S.iloc[0, 0]\n",
    "print(\"S =\", S_val)\n"
   ]
  },
  {
   "cell_type": "code",
   "execution_count": 31,
   "id": "718935c6",
   "metadata": {},
   "outputs": [
    {
     "name": "stdout",
     "output_type": "stream",
     "text": [
      "Overall CLV = $354.96\n"
     ]
    }
   ],
   "source": [
    "# 3) overall CLV\n",
    "CLV_overall = -AC_avg + S_val\n",
    "print(f\"Overall CLV = ${CLV_overall:,.2f}\")"
   ]
  }
 ],
 "metadata": {
  "kernelspec": {
   "display_name": ".venv",
   "language": "python",
   "name": "python3"
  },
  "language_info": {
   "codemirror_mode": {
    "name": "ipython",
    "version": 3
   },
   "file_extension": ".py",
   "mimetype": "text/x-python",
   "name": "python",
   "nbconvert_exporter": "python",
   "pygments_lexer": "ipython3",
   "version": "3.12.5"
  }
 },
 "nbformat": 4,
 "nbformat_minor": 5
}
